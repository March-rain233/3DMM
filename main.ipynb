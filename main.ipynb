{
 "cells": [
  {
   "cell_type": "code",
   "execution_count": 42,
   "metadata": {},
   "outputs": [],
   "source": [
    "import h5py\n",
    "import json\n",
    "import numpy as np\n",
    "import scipy\n",
    "import pandas as pd\n",
    "import scipy.io as sio\n",
    "data = sio.loadmat('model\\BFM.mat')['model']"
   ]
  },
  {
   "cell_type": "code",
   "execution_count": 51,
   "metadata": {},
   "outputs": [
    {
     "name": "stdout",
     "output_type": "stream",
     "text": [
      "[[-57239.016  42965.688  80410.125 ...  58620.625 -23110.14  -15202.358]]\n",
      "[2. 3.]\n"
     ]
    }
   ],
   "source": [
    "print(data['shapeMU'][0, 0].T)\n",
    "a = data['shapeMU'][0, 0].T.reshape(-1, 3)\n"
   ]
  },
  {
   "cell_type": "code",
   "execution_count": 69,
   "metadata": {},
   "outputs": [
    {
     "name": "stdout",
     "output_type": "stream",
     "text": [
      "[[1 2]\n",
      " [2 3]\n",
      " [4 5]]\n",
      "[1 2]\n",
      "[ 5  8 14]\n"
     ]
    }
   ],
   "source": [
    "a = np.array([[1,2],[2,3],[4,5]])\n",
    "b = np.array([1,2])\n",
    "print(a)\n",
    "print(b)\n",
    "print(a@b)"
   ]
  },
  {
   "cell_type": "code",
   "execution_count": 6,
   "metadata": {},
   "outputs": [
    {
     "name": "stdout",
     "output_type": "stream",
     "text": [
      "[[1 1 1]\n",
      " [2 2 2]]\n",
      "[0 1 2]\n",
      "[3 6]\n"
     ]
    }
   ],
   "source": [
    "import numpy as np\n",
    "a = np.array([[1,1,1],[2,2,2]])\n",
    "b = np.arange(3)\n",
    "print(a)\n",
    "print(b)\n",
    "print(a@b)"
   ]
  },
  {
   "cell_type": "code",
   "execution_count": null,
   "metadata": {},
   "outputs": [],
   "source": [
    "# 打开摄像头并灰度化显示\n",
    "import cv2\n",
    "import dlib\n",
    "import matplotlib.pyplot as plt\n",
    "cap = cv2.VideoCapture(0) \n",
    "detector = dlib.get_frontal_face_detector()\n",
    "predictor = dlib.shape_predictor(\"model/shape_predictor_68_face_landmarks.dat\")\n",
    "while(cap.isOpened()):\n",
    "# 获取一帧\n",
    "    ret, frame = cap.read()\n",
    "\n",
    "    gray = cv2.cvtColor(frame, cv2.COLOR_BGR2GRAY)\n",
    "    faces = detector(gray, 1)\n",
    "    for face in faces:\n",
    "\n",
    "        # # 8.1 绘制矩形框\n",
    "        # cv2.rectangle(frame, (face.left(), face.top()), (face.right(), face.bottom()), (0, 255, 0), 3)\n",
    "        # 8.2 检测关键点\n",
    "        shape = predictor(gray, face)\n",
    "        #8.3 获取关键点坐标\n",
    "        for pt in shape.parts():\n",
    "            # 每个点的坐标\n",
    "            pt_position = (pt.x, pt.y)\n",
    "            # 绘制关键点\n",
    "            cv2.circle(frame, pt_position, 3, (255, 0, 0), -1)\n",
    "\n",
    "    cv2.imshow('frame', frame)\n",
    "    if cv2.waitKey(1) == ord('q'):\n",
    "        break\n",
    "cap.release()\n",
    "cv2.destroyAllWindows()"
   ]
  }
 ],
 "metadata": {
  "kernelspec": {
   "display_name": "base",
   "language": "python",
   "name": "python3"
  },
  "language_info": {
   "codemirror_mode": {
    "name": "ipython",
    "version": 3
   },
   "file_extension": ".py",
   "mimetype": "text/x-python",
   "name": "python",
   "nbconvert_exporter": "python",
   "pygments_lexer": "ipython3",
   "version": "3.9.7"
  },
  "orig_nbformat": 4
 },
 "nbformat": 4,
 "nbformat_minor": 2
}
