{
 "cells": [
  {
   "cell_type": "code",
   "execution_count": 6,
   "metadata": {},
   "outputs": [],
   "source": [
    "#导入依赖\n",
    "import h5py\n",
    "import numpy as np"
   ]
  },
  {
   "cell_type": "code",
   "execution_count": 7,
   "metadata": {},
   "outputs": [
    {
     "name": "stdout",
     "output_type": "stream",
     "text": [
      "catalog\n",
      "<KeysViewHDF5 ['MorphableModel', 'MorphableModel.color', 'MorphableModel.expression', 'MorphableModel.shape']>\n",
      "color\n",
      "<KeysViewHDF5 ['model', 'modelinfo', 'representer', 'version']>\n",
      "expression\n",
      "<KeysViewHDF5 ['model', 'modelinfo', 'representer', 'version']>\n",
      "metadata\n",
      "<KeysViewHDF5 ['landmarks']>\n",
      "shape\n",
      "<KeysViewHDF5 ['model', 'modelinfo', 'representer', 'version']>\n",
      "version\n",
      "<KeysViewHDF5 ['majorVersion', 'minorVersion']>\n"
     ]
    }
   ],
   "source": [
    "f = h5py.File('model/model2019_fullHead.h5', 'r')\n",
    "for k in f:\n",
    "    print(k)\n",
    "    print(f[k].keys())\n",
    "f.close()"
   ]
  },
  {
   "cell_type": "code",
   "execution_count": 8,
   "metadata": {},
   "outputs": [],
   "source": [
    "# 打开摄像头并灰度化显示\n",
    "import cv2\n",
    "import matplotlib.pyplot as plt\n",
    "cap = cv2.VideoCapture(0) \n",
    "while(cap.isOpened()):\n",
    "# 获取一帧\n",
    "    ret, frame = cap.read()\n",
    "    cv2.imshow('frame', frame)\n",
    "    if cv2.waitKey(1) == ord('q'):\n",
    "        break\n",
    "cap.release()\n",
    "cv2.destroyAllWindows()"
   ]
  }
 ],
 "metadata": {
  "kernelspec": {
   "display_name": "base",
   "language": "python",
   "name": "python3"
  },
  "language_info": {
   "codemirror_mode": {
    "name": "ipython",
    "version": 3
   },
   "file_extension": ".py",
   "mimetype": "text/x-python",
   "name": "python",
   "nbconvert_exporter": "python",
   "pygments_lexer": "ipython3",
   "version": "3.9.7"
  },
  "orig_nbformat": 4
 },
 "nbformat": 4,
 "nbformat_minor": 2
}
