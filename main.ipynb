{
 "cells": [
  {
   "cell_type": "code",
   "execution_count": 4,
   "metadata": {},
   "outputs": [
    {
     "name": "stdout",
     "output_type": "stream",
     "text": [
      "catalog <HDF5 group \"/catalog\" (4 members)>\n",
      "catalog/MorphableModel <HDF5 group \"/catalog/MorphableModel\" (2 members)>\n",
      "catalog/MorphableModel/modelPath <HDF5 dataset \"modelPath\": shape (1,), type \"|S1\">\n",
      "catalog/MorphableModel/modelType <HDF5 dataset \"modelType\": shape (1,), type \"|S12\">\n",
      "catalog/MorphableModel.color <HDF5 group \"/catalog/MorphableModel.color\" (2 members)>\n",
      "catalog/MorphableModel.color/modelPath <HDF5 dataset \"modelPath\": shape (1,), type \"|S6\">\n",
      "catalog/MorphableModel.color/modelType <HDF5 dataset \"modelType\": shape (1,), type \"|S23\">\n",
      "catalog/MorphableModel.expression <HDF5 group \"/catalog/MorphableModel.expression\" (2 members)>\n",
      "catalog/MorphableModel.expression/modelPath <HDF5 dataset \"modelPath\": shape (1,), type \"|S11\">\n",
      "catalog/MorphableModel.expression/modelType <HDF5 dataset \"modelType\": shape (1,), type \"|S23\">\n",
      "catalog/MorphableModel.shape <HDF5 group \"/catalog/MorphableModel.shape\" (2 members)>\n",
      "catalog/MorphableModel.shape/modelPath <HDF5 dataset \"modelPath\": shape (1,), type \"|S7\">\n",
      "catalog/MorphableModel.shape/modelType <HDF5 dataset \"modelType\": shape (1,), type \"|S18\">\n",
      "color <HDF5 group \"/color\" (4 members)>\n",
      "color/model <HDF5 group \"/color/model\" (4 members)>\n",
      "color/model/mean <HDF5 dataset \"mean\": shape (174609,), type \"<f4\">\n",
      "color/model/noiseVariance <HDF5 dataset \"noiseVariance\": shape (1,), type \"<f4\">\n",
      "color/model/pcaBasis <HDF5 dataset \"pcaBasis\": shape (174609, 199), type \"<f4\">\n",
      "color/model/pcaVariance <HDF5 dataset \"pcaVariance\": shape (199,), type \"<f4\">\n",
      "color/modelinfo <HDF5 group \"/color/modelinfo\" (2 members)>\n",
      "color/modelinfo/build-time <HDF5 dataset \"build-time\": shape (1,), type \"|S28\">\n",
      "color/modelinfo/scores <HDF5 dataset \"scores\": shape (1, 1), type \"<f4\">\n",
      "color/representer <HDF5 group \"/color/representer\" (3 members)>\n",
      "color/representer/cells <HDF5 dataset \"cells\": shape (3, 116160), type \"<i4\">\n",
      "color/representer/colorspace <HDF5 dataset \"colorspace\": shape (1,), type \"|S4\">\n",
      "color/representer/points <HDF5 dataset \"points\": shape (3, 58203), type \"<f4\">\n",
      "color/version <HDF5 group \"/color/version\" (2 members)>\n",
      "color/version/majorVersion <HDF5 dataset \"majorVersion\": shape (), type \"<i4\">\n",
      "color/version/minorVersion <HDF5 dataset \"minorVersion\": shape (), type \"<i4\">\n",
      "expression <HDF5 group \"/expression\" (4 members)>\n",
      "expression/model <HDF5 group \"/expression/model\" (4 members)>\n",
      "expression/model/mean <HDF5 dataset \"mean\": shape (174609,), type \"<f4\">\n",
      "expression/model/noiseVariance <HDF5 dataset \"noiseVariance\": shape (1,), type \"<f4\">\n",
      "expression/model/pcaBasis <HDF5 dataset \"pcaBasis\": shape (174609, 100), type \"<f4\">\n",
      "expression/model/pcaVariance <HDF5 dataset \"pcaVariance\": shape (100,), type \"<f4\">\n",
      "expression/modelinfo <HDF5 group \"/expression/modelinfo\" (2 members)>\n",
      "expression/modelinfo/build-time <HDF5 dataset \"build-time\": shape (1,), type \"|S28\">\n",
      "expression/modelinfo/scores <HDF5 dataset \"scores\": shape (1, 1), type \"<f4\">\n",
      "expression/representer <HDF5 group \"/expression/representer\" (2 members)>\n",
      "expression/representer/cells <HDF5 dataset \"cells\": shape (3, 116160), type \"<i4\">\n",
      "expression/representer/points <HDF5 dataset \"points\": shape (3, 58203), type \"<f4\">\n",
      "expression/version <HDF5 group \"/expression/version\" (2 members)>\n",
      "expression/version/majorVersion <HDF5 dataset \"majorVersion\": shape (), type \"<i4\">\n",
      "expression/version/minorVersion <HDF5 dataset \"minorVersion\": shape (), type \"<i4\">\n",
      "metadata <HDF5 group \"/metadata\" (1 members)>\n",
      "metadata/landmarks <HDF5 group \"/metadata/landmarks\" (1 members)>\n",
      "metadata/landmarks/json <HDF5 dataset \"json\": shape (1,), type \"|S11867\">\n",
      "shape <HDF5 group \"/shape\" (4 members)>\n",
      "shape/model <HDF5 group \"/shape/model\" (4 members)>\n",
      "shape/model/mean <HDF5 dataset \"mean\": shape (174609,), type \"<f4\">\n",
      "shape/model/noiseVariance <HDF5 dataset \"noiseVariance\": shape (1,), type \"<f4\">\n",
      "shape/model/pcaBasis <HDF5 dataset \"pcaBasis\": shape (174609, 199), type \"<f4\">\n",
      "shape/model/pcaVariance <HDF5 dataset \"pcaVariance\": shape (199,), type \"<f4\">\n",
      "shape/modelinfo <HDF5 group \"/shape/modelinfo\" (2 members)>\n",
      "shape/modelinfo/build-time <HDF5 dataset \"build-time\": shape (1,), type \"|S28\">\n",
      "shape/modelinfo/scores <HDF5 dataset \"scores\": shape (1, 1), type \"<f4\">\n",
      "shape/representer <HDF5 group \"/shape/representer\" (2 members)>\n",
      "shape/representer/cells <HDF5 dataset \"cells\": shape (3, 116160), type \"<i4\">\n",
      "shape/representer/points <HDF5 dataset \"points\": shape (3, 58203), type \"<f4\">\n",
      "shape/version <HDF5 group \"/shape/version\" (2 members)>\n",
      "shape/version/majorVersion <HDF5 dataset \"majorVersion\": shape (), type \"<i4\">\n",
      "shape/version/minorVersion <HDF5 dataset \"minorVersion\": shape (), type \"<i4\">\n",
      "version <HDF5 group \"/version\" (2 members)>\n",
      "version/majorVersion <HDF5 dataset \"majorVersion\": shape (), type \"<i4\">\n",
      "version/minorVersion <HDF5 dataset \"minorVersion\": shape (), type \"<i4\">\n"
     ]
    }
   ],
   "source": [
    "import h5py\n",
    "with h5py.File('model\\model2019_fullHead.h5', 'r') as f:\n",
    "    f.visititems(lambda x, i:print(x, i))"
   ]
  },
  {
   "cell_type": "code",
   "execution_count": 6,
   "metadata": {},
   "outputs": [
    {
     "name": "stdout",
     "output_type": "stream",
     "text": [
      "[[1 1 1]\n",
      " [2 2 2]]\n",
      "[0 1 2]\n",
      "[3 6]\n"
     ]
    }
   ],
   "source": [
    "import numpy as np\n",
    "a = np.array([[1,1,1],[2,2,2]])\n",
    "b = np.arange(3)\n",
    "print(a)\n",
    "print(b)\n",
    "print(a@b)"
   ]
  },
  {
   "cell_type": "code",
   "execution_count": null,
   "metadata": {},
   "outputs": [],
   "source": [
    "# 打开摄像头并灰度化显示\n",
    "import cv2\n",
    "import dlib\n",
    "import matplotlib.pyplot as plt\n",
    "cap = cv2.VideoCapture(0) \n",
    "detector = dlib.get_frontal_face_detector()\n",
    "predictor = dlib.shape_predictor(\"model/shape_predictor_68_face_landmarks.dat\")\n",
    "while(cap.isOpened()):\n",
    "# 获取一帧\n",
    "    ret, frame = cap.read()\n",
    "\n",
    "    gray = cv2.cvtColor(frame, cv2.COLOR_BGR2GRAY)\n",
    "    faces = detector(gray, 1)\n",
    "    for face in faces:\n",
    "\n",
    "        # # 8.1 绘制矩形框\n",
    "        # cv2.rectangle(frame, (face.left(), face.top()), (face.right(), face.bottom()), (0, 255, 0), 3)\n",
    "        # 8.2 检测关键点\n",
    "        shape = predictor(gray, face)\n",
    "        #8.3 获取关键点坐标\n",
    "        for pt in shape.parts():\n",
    "            # 每个点的坐标\n",
    "            pt_position = (pt.x, pt.y)\n",
    "            # 绘制关键点\n",
    "            cv2.circle(frame, pt_position, 3, (255, 0, 0), -1)\n",
    "\n",
    "    cv2.imshow('frame', frame)\n",
    "    if cv2.waitKey(1) == ord('q'):\n",
    "        break\n",
    "cap.release()\n",
    "cv2.destroyAllWindows()"
   ]
  }
 ],
 "metadata": {
  "kernelspec": {
   "display_name": "base",
   "language": "python",
   "name": "python3"
  },
  "language_info": {
   "codemirror_mode": {
    "name": "ipython",
    "version": 3
   },
   "file_extension": ".py",
   "mimetype": "text/x-python",
   "name": "python",
   "nbconvert_exporter": "python",
   "pygments_lexer": "ipython3",
   "version": "3.9.7"
  },
  "orig_nbformat": 4
 },
 "nbformat": 4,
 "nbformat_minor": 2
}
